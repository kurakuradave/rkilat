{
 "cells": [
  {
   "cell_type": "markdown",
   "metadata": {},
   "source": [
    "# CSV Files\n",
    "\n",
    "## What is a CSV file?\n",
    "\n",
    "CSV stands for \"comma-separated-value\". A CSV file is just a plain text file. We can open a CSV file using Notepad (Windows), but it will not be 'rendered' into a tabular format.\n",
    "\n",
    "## Some Terminal Commands\n",
    "\n",
    "<i> NOTE: If your Anaconda Prompt does not support Unix Terminal commands by default, you may not have the software installed. Try: </i> ```> conda install m2-base```\n",
    "\n",
    "There are many Unix commands for working / manipulating text files. Below are some Unix terminal commands for working with text files (CSV files included). Open up a new Terminal session from the Jupyter-lab launcher and try typing in the following commands and observe the effects:\n",
    "\n",
    "- `more` will print out the contents of the file. Try ```> more iris.csv```\n",
    "\n",
    "- `wc` will do a word count on the file. Try ```> wc iris.csv```\n",
    "\n",
    "- `grep` will perform a regular expression search on the contents of the file, and display rows that match the pattern. Try ```> grep \"setosa\" iris.csv```\n"
   ]
  },
  {
   "cell_type": "markdown",
   "metadata": {},
   "source": [
    "### Piping\n",
    "\n",
    "Terminal commands typically take in some text input, and produce some other text output. We can \"daisy chain\" more than one command, where the output of a command becomes the input of a following command. This can be achieved using the \"|\" (pipe) operator. Try this to see it in action: ```> grep \"setosa\" iris.csv | wc```\n",
    "\n",
    "In the above example, we first use ```grep``` to obtain rows that contain \"setosa\" and then pass those lines onwards to ```wc```, which will perform a count on the lines, words and characters\n",
    "\n",
    "### Saving Output To A File\n",
    "\n",
    "To save those output into a file on the disk, we can use the ```>``` operator. For example `> grep \"setosa\" iris.csv | wc > my_output.txt` will save the output from `wc` to a file."
   ]
  },
  {
   "cell_type": "markdown",
   "metadata": {},
   "source": [
    "### Do I need to know Unix Terminal commands?\n",
    "\n",
    "No, but since we frequently have to work in a Terminal, and since CSV files are just plain text files, knowledge of some of these commands can be very helpful. For example, when we have hundreds of CSV files and need to pull out lines with a specific pattern or value, we can use ```> grep \"thepattern\" *.csv > ta-daa.csv``` to obtain them across all files, without needing to open any of them in a spreadsheet. "
   ]
  },
  {
   "cell_type": "markdown",
   "metadata": {},
   "source": [
    "## Reading a CSV file in R\n",
    "\n",
    "Use `read.table` to read a CSV file in R. This will give us a DataFrame object, which we can assign into any variable with the `<-` operator."
   ]
  },
  {
   "cell_type": "code",
   "execution_count": null,
   "metadata": {},
   "outputs": [],
   "source": [
    "### Try reading 'iris.csv' file\n",
    "df <- \n",
    "\n",
    "print(df)"
   ]
  },
  {
   "cell_type": "markdown",
   "metadata": {},
   "source": [
    "Try the `[]` and `$` operators on the df object, for example `df[\"Sepal.Width\"]`.\n",
    "\n",
    "<i>NOTE: Jupyter-lab knows how to render a CSV file, try double-clicking iris.csv file on the left tab and inspect the file structure.</i>\n"
   ]
  },
  {
   "cell_type": "code",
   "execution_count": null,
   "metadata": {},
   "outputs": [],
   "source": [
    "### use the [] operator on the Sepal.Length\n",
    "\n",
    "### use the $ operator on Peal.Length\n",
    "\n",
    "### inspect what is the type of the object returned to you by R when you use $ on Petal.Length, use the class() and is.vector() functions\n"
   ]
  }
 ],
 "metadata": {
  "kernelspec": {
   "display_name": "R",
   "language": "R",
   "name": "ir"
  },
  "language_info": {
   "codemirror_mode": "r",
   "file_extension": ".r",
   "mimetype": "text/x-r-source",
   "name": "R",
   "pygments_lexer": "r",
   "version": "3.5.2"
  }
 },
 "nbformat": 4,
 "nbformat_minor": 2
}
